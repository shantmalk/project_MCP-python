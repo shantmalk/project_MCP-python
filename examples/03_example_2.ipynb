{
 "cells": [
  {
   "cell_type": "markdown",
   "metadata": {},
   "source": [
    "# Example 2\n",
    "* Make a graph of the LV mass, the mass at-risk, and the percent mass at risk\n",
    "    * Select the worst lesions in each patient, therefore only **one** lesion is assessed for each patient"
   ]
  },
  {
   "cell_type": "markdown",
   "metadata": {},
   "source": [
    "## Import dependencies"
   ]
  },
  {
   "cell_type": "code",
   "execution_count": 39,
   "metadata": {},
   "outputs": [],
   "source": [
    "import pyodbc\n",
    "import numpy as np\n",
    "import pandas as pd\n",
    "import matplotlib.pyplot as plt\n",
    "\n",
    "%matplotlib inline"
   ]
  },
  {
   "cell_type": "markdown",
   "metadata": {},
   "source": [
    "## Connect to database"
   ]
  },
  {
   "cell_type": "code",
   "execution_count": 2,
   "metadata": {},
   "outputs": [],
   "source": [
    "db_type = 'Microsoft Access Driver (*.mdb, *.accdb)'\n",
    "db_path = r'C:\\Users\\Admin\\Desktop\\db_CONFIRM.accdb'\n",
    "pyodbc_str = (\n",
    "    r'DRIVER={{{DB_TYPE}}};'\n",
    "    r'DBQ={DB_PATH};'\n",
    "    ).format(DB_TYPE=db_type, DB_PATH=db_path)"
   ]
  },
  {
   "cell_type": "code",
   "execution_count": 3,
   "metadata": {},
   "outputs": [],
   "source": [
    "conn = pyodbc.connect(pyodbc_str)"
   ]
  },
  {
   "cell_type": "markdown",
   "metadata": {},
   "source": [
    "## Create SQL query"
   ]
  },
  {
   "cell_type": "code",
   "execution_count": 4,
   "metadata": {},
   "outputs": [],
   "source": [
    "sql_query = '''SELECT tblMCP.id_vessel_study, tblMCP.omlddistance_valid_vitrea, tblMCP.mass_lv_g, tblMCP.mass_mcp_g, tblMCP.id_vessel, tblOMLDistQualityControl.db_omlddistance_valid, tblConfirmPerLesion.lesion_worst, tblConfirmPerLesion.mi_type, tblConfirmPerLesion.mi_event\n",
    "FROM (tblOMLDistQualityControl INNER JOIN tblMCP ON tblOMLDistQualityControl.id_vessel_lesion = tblMCP.id_vessel_study) INNER JOIN tblConfirmPerLesion ON tblMCP.id_vessel_study = tblConfirmPerLesion.lesion_id\n",
    "WHERE (((tblMCP.omlddistance_valid_vitrea)=1) AND ((tblMCP.id_vessel) Like '%dist') AND ((tblOMLDistQualityControl.db_omlddistance_valid)='1') AND ((tblConfirmPerLesion.lesion_worst)=1) AND ((tblConfirmPerLesion.mi_event)=1));\n",
    "'''"
   ]
  },
  {
   "cell_type": "code",
   "execution_count": 13,
   "metadata": {},
   "outputs": [
    {
     "data": {
      "text/html": [
       "<div>\n",
       "<style scoped>\n",
       "    .dataframe tbody tr th:only-of-type {\n",
       "        vertical-align: middle;\n",
       "    }\n",
       "\n",
       "    .dataframe tbody tr th {\n",
       "        vertical-align: top;\n",
       "    }\n",
       "\n",
       "    .dataframe thead th {\n",
       "        text-align: right;\n",
       "    }\n",
       "</style>\n",
       "<table border=\"1\" class=\"dataframe\">\n",
       "  <thead>\n",
       "    <tr style=\"text-align: right;\">\n",
       "      <th></th>\n",
       "      <th>id_vessel_study</th>\n",
       "      <th>omlddistance_valid_vitrea</th>\n",
       "      <th>mass_lv_g</th>\n",
       "      <th>mass_mcp_g</th>\n",
       "      <th>id_vessel</th>\n",
       "      <th>db_omlddistance_valid</th>\n",
       "      <th>lesion_worst</th>\n",
       "      <th>mi_type</th>\n",
       "      <th>mi_event</th>\n",
       "    </tr>\n",
       "  </thead>\n",
       "  <tbody>\n",
       "    <tr>\n",
       "      <th>0</th>\n",
       "      <td>10128_Lesion_RCA2</td>\n",
       "      <td>1.0</td>\n",
       "      <td>273.35</td>\n",
       "      <td>64.42</td>\n",
       "      <td>rca_dist</td>\n",
       "      <td>1</td>\n",
       "      <td>1</td>\n",
       "      <td>1</td>\n",
       "      <td>1</td>\n",
       "    </tr>\n",
       "    <tr>\n",
       "      <th>1</th>\n",
       "      <td>10255_Lesion_D1.2</td>\n",
       "      <td>1.0</td>\n",
       "      <td>237.21</td>\n",
       "      <td>25.27</td>\n",
       "      <td>lad_dist</td>\n",
       "      <td>1</td>\n",
       "      <td>1</td>\n",
       "      <td>4</td>\n",
       "      <td>1</td>\n",
       "    </tr>\n",
       "    <tr>\n",
       "      <th>2</th>\n",
       "      <td>10399_Lesion_R-PDA1</td>\n",
       "      <td>1.0</td>\n",
       "      <td>190.16</td>\n",
       "      <td>29.70</td>\n",
       "      <td>rca_dist</td>\n",
       "      <td>1</td>\n",
       "      <td>1</td>\n",
       "      <td>2</td>\n",
       "      <td>1</td>\n",
       "    </tr>\n",
       "    <tr>\n",
       "      <th>3</th>\n",
       "      <td>10947_Lesion_LAD2</td>\n",
       "      <td>1.0</td>\n",
       "      <td>167.87</td>\n",
       "      <td>61.52</td>\n",
       "      <td>lad_dist</td>\n",
       "      <td>1</td>\n",
       "      <td>1</td>\n",
       "      <td>2</td>\n",
       "      <td>1</td>\n",
       "    </tr>\n",
       "    <tr>\n",
       "      <th>4</th>\n",
       "      <td>11486_Lesion_RCA2</td>\n",
       "      <td>1.0</td>\n",
       "      <td>193.52</td>\n",
       "      <td>43.23</td>\n",
       "      <td>rca_dist</td>\n",
       "      <td>1</td>\n",
       "      <td>1</td>\n",
       "      <td>4</td>\n",
       "      <td>1</td>\n",
       "    </tr>\n",
       "  </tbody>\n",
       "</table>\n",
       "</div>"
      ],
      "text/plain": [
       "       id_vessel_study  omlddistance_valid_vitrea  mass_lv_g  mass_mcp_g  \\\n",
       "0    10128_Lesion_RCA2                        1.0     273.35       64.42   \n",
       "1    10255_Lesion_D1.2                        1.0     237.21       25.27   \n",
       "2  10399_Lesion_R-PDA1                        1.0     190.16       29.70   \n",
       "3    10947_Lesion_LAD2                        1.0     167.87       61.52   \n",
       "4    11486_Lesion_RCA2                        1.0     193.52       43.23   \n",
       "\n",
       "  id_vessel db_omlddistance_valid  lesion_worst mi_type  mi_event  \n",
       "0  rca_dist                     1             1       1         1  \n",
       "1  lad_dist                     1             1       4         1  \n",
       "2  rca_dist                     1             1       2         1  \n",
       "3  lad_dist                     1             1       2         1  \n",
       "4  rca_dist                     1             1       4         1  "
      ]
     },
     "execution_count": 13,
     "metadata": {},
     "output_type": "execute_result"
    }
   ],
   "source": [
    "#load the access query into a pandas dataframe\n",
    "df = pd.read_sql_query(sql_query, conn)\n",
    "df.head()"
   ]
  },
  {
   "cell_type": "code",
   "execution_count": 17,
   "metadata": {},
   "outputs": [
    {
     "data": {
      "text/html": [
       "<div>\n",
       "<style scoped>\n",
       "    .dataframe tbody tr th:only-of-type {\n",
       "        vertical-align: middle;\n",
       "    }\n",
       "\n",
       "    .dataframe tbody tr th {\n",
       "        vertical-align: top;\n",
       "    }\n",
       "\n",
       "    .dataframe thead th {\n",
       "        text-align: right;\n",
       "    }\n",
       "</style>\n",
       "<table border=\"1\" class=\"dataframe\">\n",
       "  <thead>\n",
       "    <tr style=\"text-align: right;\">\n",
       "      <th></th>\n",
       "      <th>id_vessel_study</th>\n",
       "      <th>omlddistance_valid_vitrea</th>\n",
       "      <th>mass_lv_g</th>\n",
       "      <th>mass_mcp_g</th>\n",
       "      <th>id_vessel</th>\n",
       "      <th>db_omlddistance_valid</th>\n",
       "      <th>lesion_worst</th>\n",
       "      <th>mi_type</th>\n",
       "      <th>mi_event</th>\n",
       "      <th>percent_mass_at_risk</th>\n",
       "    </tr>\n",
       "  </thead>\n",
       "  <tbody>\n",
       "    <tr>\n",
       "      <th>0</th>\n",
       "      <td>10128_Lesion_RCA2</td>\n",
       "      <td>1.0</td>\n",
       "      <td>273.35</td>\n",
       "      <td>64.42</td>\n",
       "      <td>rca_dist</td>\n",
       "      <td>1</td>\n",
       "      <td>1</td>\n",
       "      <td>1</td>\n",
       "      <td>1</td>\n",
       "      <td>23.566856</td>\n",
       "    </tr>\n",
       "    <tr>\n",
       "      <th>1</th>\n",
       "      <td>10255_Lesion_D1.2</td>\n",
       "      <td>1.0</td>\n",
       "      <td>237.21</td>\n",
       "      <td>25.27</td>\n",
       "      <td>lad_dist</td>\n",
       "      <td>1</td>\n",
       "      <td>1</td>\n",
       "      <td>4</td>\n",
       "      <td>1</td>\n",
       "      <td>10.653008</td>\n",
       "    </tr>\n",
       "    <tr>\n",
       "      <th>2</th>\n",
       "      <td>10399_Lesion_R-PDA1</td>\n",
       "      <td>1.0</td>\n",
       "      <td>190.16</td>\n",
       "      <td>29.70</td>\n",
       "      <td>rca_dist</td>\n",
       "      <td>1</td>\n",
       "      <td>1</td>\n",
       "      <td>2</td>\n",
       "      <td>1</td>\n",
       "      <td>15.618427</td>\n",
       "    </tr>\n",
       "    <tr>\n",
       "      <th>3</th>\n",
       "      <td>10947_Lesion_LAD2</td>\n",
       "      <td>1.0</td>\n",
       "      <td>167.87</td>\n",
       "      <td>61.52</td>\n",
       "      <td>lad_dist</td>\n",
       "      <td>1</td>\n",
       "      <td>1</td>\n",
       "      <td>2</td>\n",
       "      <td>1</td>\n",
       "      <td>36.647406</td>\n",
       "    </tr>\n",
       "    <tr>\n",
       "      <th>4</th>\n",
       "      <td>11486_Lesion_RCA2</td>\n",
       "      <td>1.0</td>\n",
       "      <td>193.52</td>\n",
       "      <td>43.23</td>\n",
       "      <td>rca_dist</td>\n",
       "      <td>1</td>\n",
       "      <td>1</td>\n",
       "      <td>4</td>\n",
       "      <td>1</td>\n",
       "      <td>22.338776</td>\n",
       "    </tr>\n",
       "  </tbody>\n",
       "</table>\n",
       "</div>"
      ],
      "text/plain": [
       "       id_vessel_study  omlddistance_valid_vitrea  mass_lv_g  mass_mcp_g  \\\n",
       "0    10128_Lesion_RCA2                        1.0     273.35       64.42   \n",
       "1    10255_Lesion_D1.2                        1.0     237.21       25.27   \n",
       "2  10399_Lesion_R-PDA1                        1.0     190.16       29.70   \n",
       "3    10947_Lesion_LAD2                        1.0     167.87       61.52   \n",
       "4    11486_Lesion_RCA2                        1.0     193.52       43.23   \n",
       "\n",
       "  id_vessel db_omlddistance_valid  lesion_worst mi_type  mi_event  \\\n",
       "0  rca_dist                     1             1       1         1   \n",
       "1  lad_dist                     1             1       4         1   \n",
       "2  rca_dist                     1             1       2         1   \n",
       "3  lad_dist                     1             1       2         1   \n",
       "4  rca_dist                     1             1       4         1   \n",
       "\n",
       "   percent_mass_at_risk  \n",
       "0             23.566856  \n",
       "1             10.653008  \n",
       "2             15.618427  \n",
       "3             36.647406  \n",
       "4             22.338776  "
      ]
     },
     "execution_count": 17,
     "metadata": {},
     "output_type": "execute_result"
    }
   ],
   "source": [
    "df['percent_mass_at_risk'] = ((df['mass_mcp_g'] / df['mass_lv_g']) * 100)\n",
    "df.head()"
   ]
  },
  {
   "cell_type": "code",
   "execution_count": 25,
   "metadata": {},
   "outputs": [],
   "source": [
    "df_stemi = df[(df['mi_type'] == '1')]\n",
    "df_other = df[(df['mi_type'] != '1')]"
   ]
  },
  {
   "cell_type": "markdown",
   "metadata": {},
   "source": [
    "## Create plot"
   ]
  },
  {
   "cell_type": "code",
   "execution_count": 58,
   "metadata": {},
   "outputs": [],
   "source": [
    "avg_mass_lv_stemi = df_stemi['mass_lv_g'].mean()\n",
    "avg_mass_lv_other = df_other['mass_lv_g'].mean()\n",
    "\n",
    "avg_mass_mcp_stemi = df_stemi['mass_mcp_g'].mean()\n",
    "avg_mass_mcp_other = df_other['mass_mcp_g'].mean()\n",
    "\n",
    "percent_mass_at_risk_stemi = (avg_mass_mcp_stemi / avg_mass_lv_stemi) * 100\n",
    "percent_mass_at_risk_other = (avg_mass_mcp_other / avg_mass_lv_other) * 100"
   ]
  },
  {
   "cell_type": "code",
   "execution_count": 59,
   "metadata": {},
   "outputs": [
    {
     "data": {
      "text/plain": [
       "<Figure size 3200x400 with 0 Axes>"
      ]
     },
     "metadata": {},
     "output_type": "display_data"
    },
    {
     "data": {
      "image/png": "[encoded data removed]",
      "text/plain": [
       "<Figure size 432x288 with 1 Axes>"
      ]
     },
     "metadata": {
      "needs_background": "light"
     },
     "output_type": "display_data"
    }
   ],
   "source": [
    "fig=plt.figure(figsize=(40,5), dpi= 80, facecolor='w', edgecolor='k')\n",
    "\n",
    "labels = ['LV', 'Mass at-Risk', 'Percent Mass at-Risk']\n",
    "stemi_numbers = [avg_mass_lv_stemi, avg_mass_mcp_stemi, percent_mass_at_risk_stemi]\n",
    "other_numbers = [avg_mass_lv_other, avg_mass_mcp_other, percent_mass_at_risk_other]\n",
    "\n",
    "x = np.arange(len(labels))  # the label locations\n",
    "width = 0.35  # the width of the bars\n",
    "\n",
    "fig, ax = plt.subplots()\n",
    "rects1 = ax.bar(x - width/2, stemi_numbers, width, label='STEMI')\n",
    "rects2 = ax.bar(x + width/2, other_numbers, width, label='Other')\n",
    "\n",
    "# Add some text for labels, title and custom x-axis tick labels, etc.\n",
    "ax.set_ylabel('Mass (g)')\n",
    "ax.set_xticks(x)\n",
    "ax.set_xticklabels(labels)\n",
    "ax.legend()\n",
    "fig.tight_layout()\n",
    "\n",
    "plt.show()"
   ]
  },
  {
   "cell_type": "code",
   "execution_count": null,
   "metadata": {},
   "outputs": [],
   "source": []
  }
 ],
 "metadata": {
  "kernelspec": {
   "display_name": "Python 3",
   "language": "python",
   "name": "python3"
  },
  "language_info": {
   "codemirror_mode": {
    "name": "ipython",
    "version": 3
   },
   "file_extension": ".py",
   "mimetype": "text/x-python",
   "name": "python",
   "nbconvert_exporter": "python",
   "pygments_lexer": "ipython3",
   "version": "3.7.3"
  }
 },
 "nbformat": 4,
 "nbformat_minor": 4
}