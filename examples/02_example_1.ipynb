{
 "cells": [
  {
   "cell_type": "markdown",
   "metadata": {},
   "source": [
    "# Example 1\n",
    "* Create table to count the number of lesions found in LAD/LCx/RCA for each processed patient\n",
    "    * Split the results into STEMI versus OTHER MI groups"
   ]
  },
  {
   "cell_type": "markdown",
   "metadata": {},
   "source": [
    "## Import dependencies"
   ]
  },
  {
   "cell_type": "code",
   "execution_count": 31,
   "metadata": {},
   "outputs": [],
   "source": [
    "import pyodbc\n",
    "import pandas as pd"
   ]
  },
  {
   "cell_type": "markdown",
   "metadata": {},
   "source": [
    "## Connect to database"
   ]
  },
  {
   "cell_type": "code",
   "execution_count": 32,
   "metadata": {},
   "outputs": [],
   "source": [
    "db_type = 'Microsoft Access Driver (*.mdb, *.accdb)'\n",
    "db_path = r\"C:\\Users\\Admin\\Desktop\\db_CONFIRM.accdb\"\n",
    "pyodbc_str = (\n",
    "    r'DRIVER={{{DB_TYPE}}};'\n",
    "    r'DBQ={DB_PATH};'\n",
    "    ).format(DB_TYPE=db_type, DB_PATH=db_path)"
   ]
  },
  {
   "cell_type": "code",
   "execution_count": 33,
   "metadata": {},
   "outputs": [],
   "source": [
    "conn = pyodbc.connect(pyodbc_str)"
   ]
  },
  {
   "cell_type": "markdown",
   "metadata": {},
   "source": [
    "## Create SQL query"
   ]
  },
  {
   "cell_type": "code",
   "execution_count": 34,
   "metadata": {},
   "outputs": [],
   "source": [
    "# sql_query = '''\n",
    "# SELECT tblMCP.id_vessel_study, tblOMLDistQualityControl.db_omlddistance_valid, tblMCP.omlddistance_valid_vitrea, tblConfirmPerLesion.mi_type, tblConfirmPerLesion.lesion_worst, tblMCP.id_vessel\n",
    "# FROM (tblOMLDistQualityControl INNER JOIN tblMCP ON tblOMLDistQualityControl.id_vessel_lesion = tblMCP.id_vessel_study) INNER JOIN tblConfirmPerLesion ON tblMCP.id_vessel_study = tblConfirmPerLesion.lesion_id\n",
    "# WHERE (((tblOMLDistQualityControl.db_omlddistance_valid)='1') AND ((tblMCP.omlddistance_valid_vitrea)=1) AND ((tblConfirmPerLesion.lesion_worst)=1) AND ((tblMCP.id_vessel) Like '%dist'));\n",
    "# '''\n",
    "\n",
    "sql_query1 = '''\n",
    "SELECT tblMCP.id_vessel_study, tblOMLDistQualityControl.db_omlddistance_valid, tblMCP.omlddistance_valid_vitrea, tblMCP.mass_lv_g, tblMCP.mass_mcp_g, [tblMCP]![mass_mcp_g]/[tblMCP]![mass_lv_g]*100 AS mass_mcp_perc, tblConfirmPerLesion.*, tblMCP.id_vessel\n",
    "FROM tblOMLDistQualityControl INNER JOIN (tblMCP INNER JOIN tblConfirmPerLesion ON tblMCP.id_vessel_study = tblConfirmPerLesion.lesion_id) ON tblOMLDistQualityControl.id_vessel_lesion = tblMCP.id_vessel_study\n",
    "WHERE (((tblMCP.id_vtree)='sub') AND ((tblMCP.id_vessel) Like '%dist') AND ((tblConfirmPerLesion.lesion_worst)=1) AND ((tblMCP.omlddistance_valid_vitrea)=1)) AND ((tblOMLDistQualityControl.db_omlddistance_valid)='1');\n",
    "'''"
   ]
  },
  {
   "cell_type": "code",
   "execution_count": 35,
   "metadata": {},
   "outputs": [
    {
     "output_type": "execute_result",
     "data": {
      "text/plain": "        id_vessel_study db_omlddistance_valid  omlddistance_valid_vitrea  \\\n0     10128_Lesion_RCA2                     1                        1.0   \n1     10255_Lesion_D1.2                     1                        1.0   \n2   10399_Lesion_R-PDA1                     1                        1.0   \n3     10947_Lesion_LAD2                     1                        1.0   \n4     11273_Lesion_LCX1                     1                        1.0   \n5     11486_Lesion_RCA2                     1                        1.0   \n6     11488_Lesion_LAD1                     1                        1.0   \n7     11748_Lesion_LAD1                     1                        1.0   \n8   11853_Lesion_R-PDA1                     1                        1.0   \n9     12805_Lesion_LCX1                     1                        1.0   \n10    13758_Lesion_D1.1                     1                        1.0   \n11    14054_Lesion_LAD1                     1                        1.0   \n12    14066_Lesion_LCX1                     1                        1.0   \n13    14209_Lesion_LCX1                     1                        1.0   \n14    15951_Lesion_LAD1                     1                        1.0   \n15    16326_Lesion_RCA3                     1                        1.0   \n16    16326_Lesion_RCA3                     1                        1.0   \n17  16342_Lesion_R-PDA1                     1                        1.0   \n18    16346_Lesion_LAD1                     1                        1.0   \n19    17214_Lesion_LAD1                     1                        1.0   \n\n    mass_lv_g  mass_mcp_g  mass_mcp_perc  ﻿matched  order_lesion  \\\n0      273.35       64.42      23.566856         1           313   \n1      237.21       25.27      10.653008         1           325   \n2      190.16       29.70      15.618427         1           335   \n3      167.87       61.52      36.647406         1           340   \n4      170.91       30.34      17.752033         1           350   \n5      193.52       43.23      22.338776         1           363   \n6      265.84       97.45      36.657388         1           364   \n7      266.11      101.02      37.961745         1           370   \n8      125.13        9.66       7.719971         1           387   \n9      150.91       18.86      12.497515         1           428   \n10     191.43        9.33       4.873844         1           465   \n11     152.56       68.73      45.051127         1           473   \n12     162.55       68.85      42.356198         1           474   \n13     282.97       31.93      11.283882         1           482   \n14     211.95       53.86      25.411654         1           550   \n15      40.73       40.70      99.926344         1           565   \n16     180.71       51.59      28.548503         1           565   \n17     278.43       28.12      10.099486         1           567   \n18     238.93       63.09      26.405223         1           569   \n19     228.48       99.79      43.675595         1           606   \n\n    lesion_status            lesion_id  ... mi_type  culprit_lesion_ica_ct  \\\n0               1    10128_Lesion_RCA2  ...       1            Lesion_LAD1   \n1               1    10255_Lesion_D1.2  ...       4            Lesion_LAD1   \n2               1  10399_Lesion_R-PDA1  ...       2            Lesion_LAD1   \n3               1    10947_Lesion_LAD2  ...       2            Lesion_LAD2   \n4               1    11273_Lesion_LCX1  ...    None                   None   \n5               1    11486_Lesion_RCA2  ...       4            Lesion_RCA1   \n6               1    11488_Lesion_LAD1  ...       1            Lesion_LAD1   \n7               1    11748_Lesion_LAD1  ...    None                   None   \n8               1  11853_Lesion_R-PDA1  ...       4            Lesion_RCA1   \n9               1    12805_Lesion_LCX1  ...    None                   None   \n10              1    13758_Lesion_D1.1  ...    None                   None   \n11              1    14054_Lesion_LAD1  ...    None                   None   \n12              1    14066_Lesion_LCX1  ...       2            Lesion_LCX1   \n13              1    14209_Lesion_LCX1  ...       3            Lesion_LCX1   \n14              1    15951_Lesion_LAD1  ...       4            Lesion_RCA1   \n15              1    16326_Lesion_RCA3  ...    None                   None   \n16              1    16326_Lesion_RCA3  ...    None                   None   \n17              1  16342_Lesion_R-PDA1  ...    None                   None   \n18              1    16346_Lesion_LAD1  ...    None                   None   \n19              1    17214_Lesion_LAD1  ...       4            Lesion_LAD1   \n\n    culprit_seg_ica_ct  lesion_culprit_ica_ct  \\\n0                    6                      0   \n1                    8                      0   \n2                    6                      0   \n3                    7                      1   \n4                 None                   None   \n5                    2                      0   \n6                    7                      1   \n7                 None                   None   \n8                    2                      0   \n9                 None                   None   \n10                None                   None   \n11                None                   None   \n12                  13                      1   \n13                  13                      1   \n14                   1                      0   \n15                None                   None   \n16                None                   None   \n17                None                   None   \n18                None                   None   \n19                   6                      1   \n\n    les_culpr_ica_ct_contr_within_pat  culpr_ica_ct_contr_within_pat_matchid  \\\n0                                   0                      10128_Lesion_LAD1   \n1                                None                                   None   \n2                                None                                   None   \n3                                   1                      10947_Lesion_LAD2   \n4                                None                                   None   \n5                                   0                      11486_Lesion_RCA1   \n6                                None                                   None   \n7                                None                                   None   \n8                                   0                      11853_Lesion_RCA1   \n9                                None                                   None   \n10                               None                                   None   \n11                               None                                   None   \n12                                  1                      14066_Lesion_LCX1   \n13                                  1                      14209_Lesion_LCX1   \n14                                  0                      15951_Lesion_RCA1   \n15                               None                                   None   \n16                               None                                   None   \n17                               None                                   None   \n18                               None                                   None   \n19                                  1                      17214_Lesion_LAD1   \n\n    main_vessel_id  min_mld  culpr_contr_between_pat  id_vessel  \n0              rca     None                     None   rca_dist  \n1              lad     None                     None   lad_dist  \n2              lad     None                     None   rca_dist  \n3              lad     None                        1   lad_dist  \n4              lcx     None                     None   lcx_dist  \n5              rca     None                     None   rca_dist  \n6              lad     None                        1   lad_dist  \n7              lad     None                        0   lad_dist  \n8              lad     None                     None   rca_dist  \n9              lcx     None                     None   lcx_dist  \n10             lad     None                     None   lad_dist  \n11             lad     None                        0   lad_dist  \n12             lcx     None                        1   lcx_dist  \n13             lcx     None                        1   lcx_dist  \n14             lad     None                     None   lad_dist  \n15             rca     None                     None   rca_dist  \n16             rca     None                     None   rca_dist  \n17             lad     None                     None   rca_dist  \n18             lad     None                        0   lad_dist  \n19             lad     None                        1   lad_dist  \n\n[20 rows x 86 columns]",
      "text/html": "<div>\n<style scoped>\n    .dataframe tbody tr th:only-of-type {\n        vertical-align: middle;\n    }\n\n    .dataframe tbody tr th {\n        vertical-align: top;\n    }\n\n    .dataframe thead th {\n        text-align: right;\n    }\n</style>\n<table border=\"1\" class=\"dataframe\">\n  <thead>\n    <tr style=\"text-align: right;\">\n      <th></th>\n      <th>id_vessel_study</th>\n      <th>db_omlddistance_valid</th>\n      <th>omlddistance_valid_vitrea</th>\n      <th>mass_lv_g</th>\n      <th>mass_mcp_g</th>\n      <th>mass_mcp_perc</th>\n      <th>﻿matched</th>\n      <th>order_lesion</th>\n      <th>lesion_status</th>\n      <th>lesion_id</th>\n      <th>...</th>\n      <th>mi_type</th>\n      <th>culprit_lesion_ica_ct</th>\n      <th>culprit_seg_ica_ct</th>\n      <th>lesion_culprit_ica_ct</th>\n      <th>les_culpr_ica_ct_contr_within_pat</th>\n      <th>culpr_ica_ct_contr_within_pat_matchid</th>\n      <th>main_vessel_id</th>\n      <th>min_mld</th>\n      <th>culpr_contr_between_pat</th>\n      <th>id_vessel</th>\n    </tr>\n  </thead>\n  <tbody>\n    <tr>\n      <th>0</th>\n      <td>10128_Lesion_RCA2</td>\n      <td>1</td>\n      <td>1.0</td>\n      <td>273.35</td>\n      <td>64.42</td>\n      <td>23.566856</td>\n      <td>1</td>\n      <td>313</td>\n      <td>1</td>\n      <td>10128_Lesion_RCA2</td>\n      <td>...</td>\n      <td>1</td>\n      <td>Lesion_LAD1</td>\n      <td>6</td>\n      <td>0</td>\n      <td>0</td>\n      <td>10128_Lesion_LAD1</td>\n      <td>rca</td>\n      <td>None</td>\n      <td>None</td>\n      <td>rca_dist</td>\n    </tr>\n    <tr>\n      <th>1</th>\n      <td>10255_Lesion_D1.2</td>\n      <td>1</td>\n      <td>1.0</td>\n      <td>237.21</td>\n      <td>25.27</td>\n      <td>10.653008</td>\n      <td>1</td>\n      <td>325</td>\n      <td>1</td>\n      <td>10255_Lesion_D1.2</td>\n      <td>...</td>\n      <td>4</td>\n      <td>Lesion_LAD1</td>\n      <td>8</td>\n      <td>0</td>\n      <td>None</td>\n      <td>None</td>\n      <td>lad</td>\n      <td>None</td>\n      <td>None</td>\n      <td>lad_dist</td>\n    </tr>\n    <tr>\n      <th>2</th>\n      <td>10399_Lesion_R-PDA1</td>\n      <td>1</td>\n      <td>1.0</td>\n      <td>190.16</td>\n      <td>29.70</td>\n      <td>15.618427</td>\n      <td>1</td>\n      <td>335</td>\n      <td>1</td>\n      <td>10399_Lesion_R-PDA1</td>\n      <td>...</td>\n      <td>2</td>\n      <td>Lesion_LAD1</td>\n      <td>6</td>\n      <td>0</td>\n      <td>None</td>\n      <td>None</td>\n      <td>lad</td>\n      <td>None</td>\n      <td>None</td>\n      <td>rca_dist</td>\n    </tr>\n    <tr>\n      <th>3</th>\n      <td>10947_Lesion_LAD2</td>\n      <td>1</td>\n      <td>1.0</td>\n      <td>167.87</td>\n      <td>61.52</td>\n      <td>36.647406</td>\n      <td>1</td>\n      <td>340</td>\n      <td>1</td>\n      <td>10947_Lesion_LAD2</td>\n      <td>...</td>\n      <td>2</td>\n      <td>Lesion_LAD2</td>\n      <td>7</td>\n      <td>1</td>\n      <td>1</td>\n      <td>10947_Lesion_LAD2</td>\n      <td>lad</td>\n      <td>None</td>\n      <td>1</td>\n      <td>lad_dist</td>\n    </tr>\n    <tr>\n      <th>4</th>\n      <td>11273_Lesion_LCX1</td>\n      <td>1</td>\n      <td>1.0</td>\n      <td>170.91</td>\n      <td>30.34</td>\n      <td>17.752033</td>\n      <td>1</td>\n      <td>350</td>\n      <td>1</td>\n      <td>11273_Lesion_LCX1</td>\n      <td>...</td>\n      <td>None</td>\n      <td>None</td>\n      <td>None</td>\n      <td>None</td>\n      <td>None</td>\n      <td>None</td>\n      <td>lcx</td>\n      <td>None</td>\n      <td>None</td>\n      <td>lcx_dist</td>\n    </tr>\n    <tr>\n      <th>5</th>\n      <td>11486_Lesion_RCA2</td>\n      <td>1</td>\n      <td>1.0</td>\n      <td>193.52</td>\n      <td>43.23</td>\n      <td>22.338776</td>\n      <td>1</td>\n      <td>363</td>\n      <td>1</td>\n      <td>11486_Lesion_RCA2</td>\n      <td>...</td>\n      <td>4</td>\n      <td>Lesion_RCA1</td>\n      <td>2</td>\n      <td>0</td>\n      <td>0</td>\n      <td>11486_Lesion_RCA1</td>\n      <td>rca</td>\n      <td>None</td>\n      <td>None</td>\n      <td>rca_dist</td>\n    </tr>\n    <tr>\n      <th>6</th>\n      <td>11488_Lesion_LAD1</td>\n      <td>1</td>\n      <td>1.0</td>\n      <td>265.84</td>\n      <td>97.45</td>\n      <td>36.657388</td>\n      <td>1</td>\n      <td>364</td>\n      <td>1</td>\n      <td>11488_Lesion_LAD1</td>\n      <td>...</td>\n      <td>1</td>\n      <td>Lesion_LAD1</td>\n      <td>7</td>\n      <td>1</td>\n      <td>None</td>\n      <td>None</td>\n      <td>lad</td>\n      <td>None</td>\n      <td>1</td>\n      <td>lad_dist</td>\n    </tr>\n    <tr>\n      <th>7</th>\n      <td>11748_Lesion_LAD1</td>\n      <td>1</td>\n      <td>1.0</td>\n      <td>266.11</td>\n      <td>101.02</td>\n      <td>37.961745</td>\n      <td>1</td>\n      <td>370</td>\n      <td>1</td>\n      <td>11748_Lesion_LAD1</td>\n      <td>...</td>\n      <td>None</td>\n      <td>None</td>\n      <td>None</td>\n      <td>None</td>\n      <td>None</td>\n      <td>None</td>\n      <td>lad</td>\n      <td>None</td>\n      <td>0</td>\n      <td>lad_dist</td>\n    </tr>\n    <tr>\n      <th>8</th>\n      <td>11853_Lesion_R-PDA1</td>\n      <td>1</td>\n      <td>1.0</td>\n      <td>125.13</td>\n      <td>9.66</td>\n      <td>7.719971</td>\n      <td>1</td>\n      <td>387</td>\n      <td>1</td>\n      <td>11853_Lesion_R-PDA1</td>\n      <td>...</td>\n      <td>4</td>\n      <td>Lesion_RCA1</td>\n      <td>2</td>\n      <td>0</td>\n      <td>0</td>\n      <td>11853_Lesion_RCA1</td>\n      <td>lad</td>\n      <td>None</td>\n      <td>None</td>\n      <td>rca_dist</td>\n    </tr>\n    <tr>\n      <th>9</th>\n      <td>12805_Lesion_LCX1</td>\n      <td>1</td>\n      <td>1.0</td>\n      <td>150.91</td>\n      <td>18.86</td>\n      <td>12.497515</td>\n      <td>1</td>\n      <td>428</td>\n      <td>1</td>\n      <td>12805_Lesion_LCX1</td>\n      <td>...</td>\n      <td>None</td>\n      <td>None</td>\n      <td>None</td>\n      <td>None</td>\n      <td>None</td>\n      <td>None</td>\n      <td>lcx</td>\n      <td>None</td>\n      <td>None</td>\n      <td>lcx_dist</td>\n    </tr>\n    <tr>\n      <th>10</th>\n      <td>13758_Lesion_D1.1</td>\n      <td>1</td>\n      <td>1.0</td>\n      <td>191.43</td>\n      <td>9.33</td>\n      <td>4.873844</td>\n      <td>1</td>\n      <td>465</td>\n      <td>1</td>\n      <td>13758_Lesion_D1.1</td>\n      <td>...</td>\n      <td>None</td>\n      <td>None</td>\n      <td>None</td>\n      <td>None</td>\n      <td>None</td>\n      <td>None</td>\n      <td>lad</td>\n      <td>None</td>\n      <td>None</td>\n      <td>lad_dist</td>\n    </tr>\n    <tr>\n      <th>11</th>\n      <td>14054_Lesion_LAD1</td>\n      <td>1</td>\n      <td>1.0</td>\n      <td>152.56</td>\n      <td>68.73</td>\n      <td>45.051127</td>\n      <td>1</td>\n      <td>473</td>\n      <td>1</td>\n      <td>14054_Lesion_LAD1</td>\n      <td>...</td>\n      <td>None</td>\n      <td>None</td>\n      <td>None</td>\n      <td>None</td>\n      <td>None</td>\n      <td>None</td>\n      <td>lad</td>\n      <td>None</td>\n      <td>0</td>\n      <td>lad_dist</td>\n    </tr>\n    <tr>\n      <th>12</th>\n      <td>14066_Lesion_LCX1</td>\n      <td>1</td>\n      <td>1.0</td>\n      <td>162.55</td>\n      <td>68.85</td>\n      <td>42.356198</td>\n      <td>1</td>\n      <td>474</td>\n      <td>1</td>\n      <td>14066_Lesion_LCX1</td>\n      <td>...</td>\n      <td>2</td>\n      <td>Lesion_LCX1</td>\n      <td>13</td>\n      <td>1</td>\n      <td>1</td>\n      <td>14066_Lesion_LCX1</td>\n      <td>lcx</td>\n      <td>None</td>\n      <td>1</td>\n      <td>lcx_dist</td>\n    </tr>\n    <tr>\n      <th>13</th>\n      <td>14209_Lesion_LCX1</td>\n      <td>1</td>\n      <td>1.0</td>\n      <td>282.97</td>\n      <td>31.93</td>\n      <td>11.283882</td>\n      <td>1</td>\n      <td>482</td>\n      <td>1</td>\n      <td>14209_Lesion_LCX1</td>\n      <td>...</td>\n      <td>3</td>\n      <td>Lesion_LCX1</td>\n      <td>13</td>\n      <td>1</td>\n      <td>1</td>\n      <td>14209_Lesion_LCX1</td>\n      <td>lcx</td>\n      <td>None</td>\n      <td>1</td>\n      <td>lcx_dist</td>\n    </tr>\n    <tr>\n      <th>14</th>\n      <td>15951_Lesion_LAD1</td>\n      <td>1</td>\n      <td>1.0</td>\n      <td>211.95</td>\n      <td>53.86</td>\n      <td>25.411654</td>\n      <td>1</td>\n      <td>550</td>\n      <td>1</td>\n      <td>15951_Lesion_LAD1</td>\n      <td>...</td>\n      <td>4</td>\n      <td>Lesion_RCA1</td>\n      <td>1</td>\n      <td>0</td>\n      <td>0</td>\n      <td>15951_Lesion_RCA1</td>\n      <td>lad</td>\n      <td>None</td>\n      <td>None</td>\n      <td>lad_dist</td>\n    </tr>\n    <tr>\n      <th>15</th>\n      <td>16326_Lesion_RCA3</td>\n      <td>1</td>\n      <td>1.0</td>\n      <td>40.73</td>\n      <td>40.70</td>\n      <td>99.926344</td>\n      <td>1</td>\n      <td>565</td>\n      <td>1</td>\n      <td>16326_Lesion_RCA3</td>\n      <td>...</td>\n      <td>None</td>\n      <td>None</td>\n      <td>None</td>\n      <td>None</td>\n      <td>None</td>\n      <td>None</td>\n      <td>rca</td>\n      <td>None</td>\n      <td>None</td>\n      <td>rca_dist</td>\n    </tr>\n    <tr>\n      <th>16</th>\n      <td>16326_Lesion_RCA3</td>\n      <td>1</td>\n      <td>1.0</td>\n      <td>180.71</td>\n      <td>51.59</td>\n      <td>28.548503</td>\n      <td>1</td>\n      <td>565</td>\n      <td>1</td>\n      <td>16326_Lesion_RCA3</td>\n      <td>...</td>\n      <td>None</td>\n      <td>None</td>\n      <td>None</td>\n      <td>None</td>\n      <td>None</td>\n      <td>None</td>\n      <td>rca</td>\n      <td>None</td>\n      <td>None</td>\n      <td>rca_dist</td>\n    </tr>\n    <tr>\n      <th>17</th>\n      <td>16342_Lesion_R-PDA1</td>\n      <td>1</td>\n      <td>1.0</td>\n      <td>278.43</td>\n      <td>28.12</td>\n      <td>10.099486</td>\n      <td>1</td>\n      <td>567</td>\n      <td>1</td>\n      <td>16342_Lesion_R-PDA1</td>\n      <td>...</td>\n      <td>None</td>\n      <td>None</td>\n      <td>None</td>\n      <td>None</td>\n      <td>None</td>\n      <td>None</td>\n      <td>lad</td>\n      <td>None</td>\n      <td>None</td>\n      <td>rca_dist</td>\n    </tr>\n    <tr>\n      <th>18</th>\n      <td>16346_Lesion_LAD1</td>\n      <td>1</td>\n      <td>1.0</td>\n      <td>238.93</td>\n      <td>63.09</td>\n      <td>26.405223</td>\n      <td>1</td>\n      <td>569</td>\n      <td>1</td>\n      <td>16346_Lesion_LAD1</td>\n      <td>...</td>\n      <td>None</td>\n      <td>None</td>\n      <td>None</td>\n      <td>None</td>\n      <td>None</td>\n      <td>None</td>\n      <td>lad</td>\n      <td>None</td>\n      <td>0</td>\n      <td>lad_dist</td>\n    </tr>\n    <tr>\n      <th>19</th>\n      <td>17214_Lesion_LAD1</td>\n      <td>1</td>\n      <td>1.0</td>\n      <td>228.48</td>\n      <td>99.79</td>\n      <td>43.675595</td>\n      <td>1</td>\n      <td>606</td>\n      <td>1</td>\n      <td>17214_Lesion_LAD1</td>\n      <td>...</td>\n      <td>4</td>\n      <td>Lesion_LAD1</td>\n      <td>6</td>\n      <td>1</td>\n      <td>1</td>\n      <td>17214_Lesion_LAD1</td>\n      <td>lad</td>\n      <td>None</td>\n      <td>1</td>\n      <td>lad_dist</td>\n    </tr>\n  </tbody>\n</table>\n<p>20 rows × 86 columns</p>\n</div>"
     },
     "metadata": {},
     "execution_count": 35
    }
   ],
   "source": [
    "#load the access query into a pandas dataframe\n",
    "df = pd.read_sql_query(sql_query1, conn)\n",
    "df.head(20)"
   ]
  },
  {
   "cell_type": "code",
   "execution_count": 36,
   "metadata": {},
   "outputs": [
    {
     "output_type": "execute_result",
     "data": {
      "text/plain": "       id_vessel_study db_omlddistance_valid  omlddistance_valid_vitrea  \\\n0    10128_Lesion_RCA2                     1                        1.0   \n1    10255_Lesion_D1.2                     1                        1.0   \n2  10399_Lesion_R-PDA1                     1                        1.0   \n3    10947_Lesion_LAD2                     1                        1.0   \n4    11273_Lesion_LCX1                     1                        1.0   \n\n   mass_lv_g  mass_mcp_g  mass_mcp_perc  ﻿matched  order_lesion  \\\n0     273.35       64.42      23.566856         1           313   \n1     237.21       25.27      10.653008         1           325   \n2     190.16       29.70      15.618427         1           335   \n3     167.87       61.52      36.647406         1           340   \n4     170.91       30.34      17.752033         1           350   \n\n   lesion_status            lesion_id  ... mi_type  culprit_lesion_ica_ct  \\\n0              1    10128_Lesion_RCA2  ...       1            Lesion_LAD1   \n1              1    10255_Lesion_D1.2  ...       4            Lesion_LAD1   \n2              1  10399_Lesion_R-PDA1  ...       2            Lesion_LAD1   \n3              1    10947_Lesion_LAD2  ...       2            Lesion_LAD2   \n4              1    11273_Lesion_LCX1  ...    None                   None   \n\n   culprit_seg_ica_ct  lesion_culprit_ica_ct  \\\n0                   6                      0   \n1                   8                      0   \n2                   6                      0   \n3                   7                      1   \n4                None                   None   \n\n   les_culpr_ica_ct_contr_within_pat  culpr_ica_ct_contr_within_pat_matchid  \\\n0                                  0                      10128_Lesion_LAD1   \n1                               None                                   None   \n2                               None                                   None   \n3                                  1                      10947_Lesion_LAD2   \n4                               None                                   None   \n\n   main_vessel_id  min_mld  culpr_contr_between_pat  id_vessel  \n0             rca     None                     None   rca_dist  \n1             lad     None                     None   lad_dist  \n2             lad     None                     None   rca_dist  \n3             lad     None                        1   lad_dist  \n4             lcx     None                     None   lcx_dist  \n\n[5 rows x 86 columns]",
      "text/html": "<div>\n<style scoped>\n    .dataframe tbody tr th:only-of-type {\n        vertical-align: middle;\n    }\n\n    .dataframe tbody tr th {\n        vertical-align: top;\n    }\n\n    .dataframe thead th {\n        text-align: right;\n    }\n</style>\n<table border=\"1\" class=\"dataframe\">\n  <thead>\n    <tr style=\"text-align: right;\">\n      <th></th>\n      <th>id_vessel_study</th>\n      <th>db_omlddistance_valid</th>\n      <th>omlddistance_valid_vitrea</th>\n      <th>mass_lv_g</th>\n      <th>mass_mcp_g</th>\n      <th>mass_mcp_perc</th>\n      <th>﻿matched</th>\n      <th>order_lesion</th>\n      <th>lesion_status</th>\n      <th>lesion_id</th>\n      <th>...</th>\n      <th>mi_type</th>\n      <th>culprit_lesion_ica_ct</th>\n      <th>culprit_seg_ica_ct</th>\n      <th>lesion_culprit_ica_ct</th>\n      <th>les_culpr_ica_ct_contr_within_pat</th>\n      <th>culpr_ica_ct_contr_within_pat_matchid</th>\n      <th>main_vessel_id</th>\n      <th>min_mld</th>\n      <th>culpr_contr_between_pat</th>\n      <th>id_vessel</th>\n    </tr>\n  </thead>\n  <tbody>\n    <tr>\n      <th>0</th>\n      <td>10128_Lesion_RCA2</td>\n      <td>1</td>\n      <td>1.0</td>\n      <td>273.35</td>\n      <td>64.42</td>\n      <td>23.566856</td>\n      <td>1</td>\n      <td>313</td>\n      <td>1</td>\n      <td>10128_Lesion_RCA2</td>\n      <td>...</td>\n      <td>1</td>\n      <td>Lesion_LAD1</td>\n      <td>6</td>\n      <td>0</td>\n      <td>0</td>\n      <td>10128_Lesion_LAD1</td>\n      <td>rca</td>\n      <td>None</td>\n      <td>None</td>\n      <td>rca_dist</td>\n    </tr>\n    <tr>\n      <th>1</th>\n      <td>10255_Lesion_D1.2</td>\n      <td>1</td>\n      <td>1.0</td>\n      <td>237.21</td>\n      <td>25.27</td>\n      <td>10.653008</td>\n      <td>1</td>\n      <td>325</td>\n      <td>1</td>\n      <td>10255_Lesion_D1.2</td>\n      <td>...</td>\n      <td>4</td>\n      <td>Lesion_LAD1</td>\n      <td>8</td>\n      <td>0</td>\n      <td>None</td>\n      <td>None</td>\n      <td>lad</td>\n      <td>None</td>\n      <td>None</td>\n      <td>lad_dist</td>\n    </tr>\n    <tr>\n      <th>2</th>\n      <td>10399_Lesion_R-PDA1</td>\n      <td>1</td>\n      <td>1.0</td>\n      <td>190.16</td>\n      <td>29.70</td>\n      <td>15.618427</td>\n      <td>1</td>\n      <td>335</td>\n      <td>1</td>\n      <td>10399_Lesion_R-PDA1</td>\n      <td>...</td>\n      <td>2</td>\n      <td>Lesion_LAD1</td>\n      <td>6</td>\n      <td>0</td>\n      <td>None</td>\n      <td>None</td>\n      <td>lad</td>\n      <td>None</td>\n      <td>None</td>\n      <td>rca_dist</td>\n    </tr>\n    <tr>\n      <th>3</th>\n      <td>10947_Lesion_LAD2</td>\n      <td>1</td>\n      <td>1.0</td>\n      <td>167.87</td>\n      <td>61.52</td>\n      <td>36.647406</td>\n      <td>1</td>\n      <td>340</td>\n      <td>1</td>\n      <td>10947_Lesion_LAD2</td>\n      <td>...</td>\n      <td>2</td>\n      <td>Lesion_LAD2</td>\n      <td>7</td>\n      <td>1</td>\n      <td>1</td>\n      <td>10947_Lesion_LAD2</td>\n      <td>lad</td>\n      <td>None</td>\n      <td>1</td>\n      <td>lad_dist</td>\n    </tr>\n    <tr>\n      <th>4</th>\n      <td>11273_Lesion_LCX1</td>\n      <td>1</td>\n      <td>1.0</td>\n      <td>170.91</td>\n      <td>30.34</td>\n      <td>17.752033</td>\n      <td>1</td>\n      <td>350</td>\n      <td>1</td>\n      <td>11273_Lesion_LCX1</td>\n      <td>...</td>\n      <td>None</td>\n      <td>None</td>\n      <td>None</td>\n      <td>None</td>\n      <td>None</td>\n      <td>None</td>\n      <td>lcx</td>\n      <td>None</td>\n      <td>None</td>\n      <td>lcx_dist</td>\n    </tr>\n  </tbody>\n</table>\n<p>5 rows × 86 columns</p>\n</div>"
     },
     "metadata": {},
     "execution_count": 36
    }
   ],
   "source": [
    "# sorting by id_patient\n",
    "df.sort_values(\"id_vessel_study\", inplace = True)\n",
    "  \n",
    "# dropping duplicte values for id_patient \n",
    "df.drop_duplicates(subset =\"id_vessel_study\", inplace = True) \n",
    "df.head()"
   ]
  },
  {
   "cell_type": "markdown",
   "metadata": {},
   "source": [
    "## Extract vessel and MI specific dataframes"
   ]
  },
  {
   "cell_type": "code",
   "execution_count": 37,
   "metadata": {},
   "outputs": [],
   "source": [
    "df_lad_stemi = df[(df['id_vessel'] == 'lad_dist') & (df['mi_type'] == '1')]\n",
    "df_lad_other = df[(df['id_vessel'] == 'lad_dist') & (df['mi_type'] != '1')]\n",
    "df_lad_other = df_lad_other.dropna(subset=['mi_type'])\n",
    "\n",
    "df_lcx_stemi = df[(df['id_vessel'] == 'lcx_dist') & (df['mi_type'] == '1')]\n",
    "df_lcx_other = df[(df['id_vessel'] == 'lcx_dist') & (df['mi_type'] != '1')]\n",
    "df_lcx_other = df_lcx_other.dropna(subset=['mi_type'])\n",
    "\n",
    "df_rca_stemi = df[(df['id_vessel'] == 'rca_dist') & (df['mi_type'] == '1')]\n",
    "df_rca_other = df[(df['id_vessel'] == 'rca_dist') & (df['mi_type'] != '1')]\n",
    "df_rca_other = df_rca_other.dropna(subset=['mi_type'])"
   ]
  },
  {
   "cell_type": "code",
   "execution_count": 38,
   "metadata": {},
   "outputs": [],
   "source": [
    "num_lad_stemi = df_lad_stemi.shape[0]\n",
    "num_lad_other = df_lad_other.shape[0]\n",
    "\n",
    "num_lcx_stemi = df_lcx_stemi.shape[0]\n",
    "num_lcx_other = df_lcx_other.shape[0]\n",
    "\n",
    "num_rca_stemi = df_rca_stemi.shape[0]\n",
    "num_rca_other = df_rca_other.shape[0]"
   ]
  },
  {
   "cell_type": "markdown",
   "metadata": {},
   "source": [
    "## Create a table (dataframe)\n",
    "* Create table to count the number of lesions found in LAD/LCx/RCA for each processed patient\n",
    "    * Split the results into STEMI versus OTHER MI groups"
   ]
  },
  {
   "cell_type": "code",
   "execution_count": 39,
   "metadata": {},
   "outputs": [],
   "source": [
    "d = {\n",
    "    'lad_stemi': num_lad_stemi,\n",
    "    'percent_lad_stemi': ((num_lad_stemi / (num_lad_stemi + num_lad_other)) * 100),\n",
    "    'lad_other': num_lad_other,\n",
    "    'percent_lad_other': ((num_lad_other / (num_lad_stemi + num_lad_other)) * 100),\n",
    "    'lcx_stemi': num_lcx_stemi,\n",
    "    'percent_lcx_stemi': ((num_lcx_stemi / (num_lcx_stemi + num_lcx_other)) * 100),\n",
    "    'lcx_other': num_lcx_other,\n",
    "    'percent_lcx_other': ((num_lcx_other / (num_lcx_stemi + num_lcx_other)) * 100),\n",
    "    'rca_stemi': num_rca_stemi,\n",
    "    'percent_rca_stemi': ((num_rca_stemi / (num_rca_stemi + num_rca_other)) * 100),\n",
    "    'rca_other': num_rca_other,\n",
    "    'percent_rca_other': ((num_rca_other / (num_rca_stemi + num_rca_other)) * 100)\n",
    "}"
   ]
  },
  {
   "cell_type": "code",
   "execution_count": 40,
   "metadata": {},
   "outputs": [
    {
     "output_type": "execute_result",
     "data": {
      "text/plain": "   lad_stemi  percent_lad_stemi  lad_other  percent_lad_other  lcx_stemi  \\\n0          3          14.285714         18          85.714286          0   \n\n   percent_lcx_stemi  lcx_other  percent_lcx_other  rca_stemi  \\\n0                0.0          7              100.0          2   \n\n   percent_rca_stemi  rca_other  percent_rca_other  \n0          16.666667         10          83.333333  ",
      "text/html": "<div>\n<style scoped>\n    .dataframe tbody tr th:only-of-type {\n        vertical-align: middle;\n    }\n\n    .dataframe tbody tr th {\n        vertical-align: top;\n    }\n\n    .dataframe thead th {\n        text-align: right;\n    }\n</style>\n<table border=\"1\" class=\"dataframe\">\n  <thead>\n    <tr style=\"text-align: right;\">\n      <th></th>\n      <th>lad_stemi</th>\n      <th>percent_lad_stemi</th>\n      <th>lad_other</th>\n      <th>percent_lad_other</th>\n      <th>lcx_stemi</th>\n      <th>percent_lcx_stemi</th>\n      <th>lcx_other</th>\n      <th>percent_lcx_other</th>\n      <th>rca_stemi</th>\n      <th>percent_rca_stemi</th>\n      <th>rca_other</th>\n      <th>percent_rca_other</th>\n    </tr>\n  </thead>\n  <tbody>\n    <tr>\n      <th>0</th>\n      <td>3</td>\n      <td>14.285714</td>\n      <td>18</td>\n      <td>85.714286</td>\n      <td>0</td>\n      <td>0.0</td>\n      <td>7</td>\n      <td>100.0</td>\n      <td>2</td>\n      <td>16.666667</td>\n      <td>10</td>\n      <td>83.333333</td>\n    </tr>\n  </tbody>\n</table>\n</div>"
     },
     "metadata": {},
     "execution_count": 40
    }
   ],
   "source": [
    "table = pd.DataFrame(d, index=[0])\n",
    "table.head()"
   ]
  }
 ],
 "metadata": {
  "kernelspec": {
   "display_name": "Python 3",
   "language": "python",
   "name": "python3"
  },
  "language_info": {
   "codemirror_mode": {
    "name": "ipython",
    "version": 3
   },
   "file_extension": ".py",
   "mimetype": "text/x-python",
   "name": "python",
   "nbconvert_exporter": "python",
   "pygments_lexer": "ipython3",
   "version": "3.7.3-final"
  }
 },
 "nbformat": 4,
 "nbformat_minor": 4
}